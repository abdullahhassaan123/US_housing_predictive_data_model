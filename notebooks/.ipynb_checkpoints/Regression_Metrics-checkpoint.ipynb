{
 "cells": [
  {
   "cell_type": "code",
   "execution_count": null,
   "id": "406ce3b7-398b-44e3-817e-115b10f9cbc4",
   "metadata": {},
   "outputs": [],
   "source": [
    "#Mean Absolute error:\n",
    "    Mean Absolute Error is a regressive loss measure looking at the absolute value difference between a model’s predictions and ground truth, \n",
    "averaged out across the dataset. Unlike MSE, MAE is weighted on a linear scale and therefore doesn’t put as much weight on outliers. \n",
    "This provides a more even measure of performance, but means large errors and smaller errors are weighted the same. Something to consider depending on your specific model use case.\n",
    "\n",
    "Mean Absolute Error (MAE) is a commonly used metric for evaluating the accuracy of predictions. It measures the average absolute difference between the actual and predicted values. \n",
    "It is used when the goal is to evaluate the quality of predictions in terms of their absolute magnitude, rather than their relative magnitude.\n",
    "\n",
    "#Mean Square Error:\n",
    "   The Mean Squared Error measures how close a regression line is to a set of data points. It is a risk function corresponding to the expected value of the squared error loss. \n",
    "\n",
    "Mean square error is calculated by taking the average, specifically the mean, of errors squared from data as it relates to a function. \n",
    "A larger MSE indicates that the data points are dispersed widely around its central moment (mean), whereas a smaller MSE suggests the opposite. \n",
    "A smaller MSE is preferred because it indicates that your data points are dispersed closely around its central moment (mean).\n",
    "\n",
    "# R-Squared:\n",
    "    R-Squared (R² or the coefficient of determination) is a statistical measure in a regression model that determines the proportion of variance\n",
    "in the dependent variable that can be explained by the independent variable. In other words, r-squared shows how well the data fit the regression model (the goodness of fit).\n",
    "    \n",
    "\n",
    "\n",
    "\n",
    "    "
   ]
  },
  {
   "cell_type": "code",
   "execution_count": null,
   "id": "3aefbb6d-5653-4c43-b333-7e715153cd2d",
   "metadata": {},
   "outputs": [],
   "source": []
  }
 ],
 "metadata": {
  "kernelspec": {
   "display_name": "Python 3 (ipykernel)",
   "language": "python",
   "name": "python3"
  },
  "language_info": {
   "codemirror_mode": {
    "name": "ipython",
    "version": 3
   },
   "file_extension": ".py",
   "mimetype": "text/x-python",
   "name": "python",
   "nbconvert_exporter": "python",
   "pygments_lexer": "ipython3",
   "version": "3.11.4"
  }
 },
 "nbformat": 4,
 "nbformat_minor": 5
}
