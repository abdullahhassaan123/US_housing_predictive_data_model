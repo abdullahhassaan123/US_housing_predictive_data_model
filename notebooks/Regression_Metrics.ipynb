{
 "cells": [
  {
   "cell_type": "code",
   "execution_count": 1,
   "id": "406ce3b7-398b-44e3-817e-115b10f9cbc4",
   "metadata": {},
   "outputs": [
    {
     "data": {
      "text/plain": [
       "'\\n#Mean Absolute error:\\n    Mean Absolute Error is a regressive loss measure looking at the absolute value difference between a model’s predictions and ground truth, \\naveraged out across the dataset. Unlike MSE, MAE is weighted on a linear scale and therefore doesn’t put as much weight on outliers. \\nThis provides a more even measure of performance, but means large errors and smaller errors are weighted the same. Something to consider depending on your specific model use case.\\n\\nMean Absolute Error (MAE) is a commonly used metric for evaluating the accuracy of predictions. It measures the average absolute difference between the actual and predicted values. \\nIt is used when the goal is to evaluate the quality of predictions in terms of their absolute magnitude, rather than their relative magnitude.\\n\\n#Mean Square Error:\\n   The Mean Squared Error measures how close a regression line is to a set of data points. It is a risk function corresponding to the expected value of the squared error loss. \\n\\nMean square error is calculated by taking the average, specifically the mean, of errors squared from data as it relates to a function. \\nA larger MSE indicates that the data points are dispersed widely around its central moment (mean), whereas a smaller MSE suggests the opposite. \\nA smaller MSE is preferred because it indicates that your data points are dispersed closely around its central moment (mean).\\n\\n# R-Squared:\\n    R-Squared (R² or the coefficient of determination) is a statistical measure in a regression model that determines the proportion of variance\\nin the dependent variable that can be explained by the independent variable. In other words, r-squared shows how well the data fit the regression model (the goodness of fit).\\n    \\nThe formula for calculating R-squared is: \\nR-Squared = SS(regression)/SS(total)\\n\\nWhere:\\n\\nSSregression is the sum of squares due to regression (explained sum of squares)\\nSStotal is the total sum of squares\\nThe sum of squares due to regression measures how well the regression model represents the data used for modeling. \\nThe total sum of squares measures the variation in the observed data (data used in regression modeling).\\n                                                                                                    \\n#Random Forest:\\n- Can be used for both classification and regression tasks\\n- In random forest, we do bootstrapping and we send random features to multriple trees to obtain multiple answers\\n- And this process of bootstarpping and then having an aggregate to make a final decision is called \"bagging process\" \\n- We estimate the accuracy of a Random Forest model by \"Out-of-order-Error\" \\n'"
      ]
     },
     "execution_count": 1,
     "metadata": {},
     "output_type": "execute_result"
    }
   ],
   "source": [
    "\"\"\"\n",
    "#Mean Absolute error:\n",
    "    Mean Absolute Error is a regressive loss measure looking at the absolute value difference between a model’s predictions and ground truth, \n",
    "averaged out across the dataset. Unlike MSE, MAE is weighted on a linear scale and therefore doesn’t put as much weight on outliers. \n",
    "This provides a more even measure of performance, but means large errors and smaller errors are weighted the same. Something to consider depending on your specific model use case.\n",
    "\n",
    "Mean Absolute Error (MAE) is a commonly used metric for evaluating the accuracy of predictions. It measures the average absolute difference between the actual and predicted values. \n",
    "It is used when the goal is to evaluate the quality of predictions in terms of their absolute magnitude, rather than their relative magnitude.\n",
    "\n",
    "#Mean Square Error:\n",
    "   The Mean Squared Error measures how close a regression line is to a set of data points. It is a risk function corresponding to the expected value of the squared error loss. \n",
    "\n",
    "Mean square error is calculated by taking the average, specifically the mean, of errors squared from data as it relates to a function. \n",
    "A larger MSE indicates that the data points are dispersed widely around its central moment (mean), whereas a smaller MSE suggests the opposite. \n",
    "A smaller MSE is preferred because it indicates that your data points are dispersed closely around its central moment (mean).\n",
    "\n",
    "# R-Squared:\n",
    "    R-Squared (R² or the coefficient of determination) is a statistical measure in a regression model that determines the proportion of variance\n",
    "in the dependent variable that can be explained by the independent variable. In other words, r-squared shows how well the data fit the regression model (the goodness of fit).\n",
    "    \n",
    "The formula for calculating R-squared is: \n",
    "R-Squared = SS(regression)/SS(total)\n",
    "\n",
    "Where:\n",
    "\n",
    "SSregression is the sum of squares due to regression (explained sum of squares)\n",
    "SStotal is the total sum of squares\n",
    "The sum of squares due to regression measures how well the regression model represents the data used for modeling. \n",
    "The total sum of squares measures the variation in the observed data (data used in regression modeling).\n",
    "                                                                                                    \n",
    "#Random Forest:\n",
    "- Can be used for both classification and regression tasks\n",
    "- In random forest, we do bootstrapping and we send random features to multriple trees to obtain multiple answers\n",
    "- And this process of bootstarpping and then having an aggregate to make a final decision is called \"bagging process\" \n",
    "- We estimate the accuracy of a Random Forest model by \"Out-of-order-Error\" \n",
    "\"\"\"    \n",
    "                                                                                                    \n",
    "\n",
    "\n",
    "    "
   ]
  },
  {
   "cell_type": "code",
   "execution_count": null,
   "id": "3aefbb6d-5653-4c43-b333-7e715153cd2d",
   "metadata": {},
   "outputs": [],
   "source": []
  }
 ],
 "metadata": {
  "kernelspec": {
   "display_name": "Python 3 (ipykernel)",
   "language": "python",
   "name": "python3"
  },
  "language_info": {
   "codemirror_mode": {
    "name": "ipython",
    "version": 3
   },
   "file_extension": ".py",
   "mimetype": "text/x-python",
   "name": "python",
   "nbconvert_exporter": "python",
   "pygments_lexer": "ipython3",
   "version": "3.10.14"
  }
 },
 "nbformat": 4,
 "nbformat_minor": 5
}
