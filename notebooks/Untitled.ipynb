{
 "cells": [
  {
   "cell_type": "code",
   "execution_count": 10,
   "id": "7b8f4e07-f03b-4c38-bb5d-6cb82025d81b",
   "metadata": {},
   "outputs": [
    {
     "name": "stdout",
     "output_type": "stream",
     "text": [
      "<class 'pandas.core.frame.DataFrame'>\n",
      "RangeIndex: 545 entries, 0 to 544\n",
      "Data columns (total 13 columns):\n",
      " #   Column            Non-Null Count  Dtype \n",
      "---  ------            --------------  ----- \n",
      " 0   price             545 non-null    int64 \n",
      " 1   area              545 non-null    int64 \n",
      " 2   bedrooms          545 non-null    int64 \n",
      " 3   bathrooms         545 non-null    int64 \n",
      " 4   stories           545 non-null    int64 \n",
      " 5   mainroad          545 non-null    object\n",
      " 6   guestroom         545 non-null    object\n",
      " 7   basement          545 non-null    object\n",
      " 8   hotwaterheating   545 non-null    object\n",
      " 9   airconditioning   545 non-null    object\n",
      " 10  parking           545 non-null    int64 \n",
      " 11  prefarea          545 non-null    object\n",
      " 12  furnishingstatus  545 non-null    object\n",
      "dtypes: int64(6), object(7)\n",
      "memory usage: 55.5+ KB\n",
      "(530, 13)\n"
     ]
    },
    {
     "data": {
      "text/plain": [
       "<Axes: ylabel='price'>"
      ]
     },
     "execution_count": 10,
     "metadata": {},
     "output_type": "execute_result"
    },
    {
     "data": {
      "image/png": "[encoded data removed]",
      "text/plain": [
       "<Figure size 640x480 with 1 Axes>"
      ]
     },
     "metadata": {},
     "output_type": "display_data"
    }
   ],
   "source": [
    "#now removing outliers\n",
    "#importing essential libs\n",
    "import pandas as pd\n",
    "import seaborn as sns\n",
    "df1 = pd.read_csv(\"Housing.csv\")\n",
    "df1.info()\n",
    "\n",
    "import numpy as np\n",
    "# IQR\n",
    "# Calculate the upper and lower limits\n",
    "q1 = df1[\"price\"].quantile(0.25)\n",
    "q3 = df1[\"price\"].quantile(0.75)\n",
    "iqr = q3 - q1\n",
    "l_limit = q1 - 1.5*iqr\n",
    "u_limit = q3 + 1.5*iqr\n",
    "\n",
    "#arrays of bolean values indicating outlier values\n",
    "l_array = np.where(df1[\"price\"] <= l_limit)[0]\n",
    "u_array = np.where(df1[\"price\"] > u_limit)[0]\n",
    "\n",
    "\n",
    "#filter the rows:\n",
    "df1 = df1[(df1[\"price\"] >= l_limit) & (df1[\"price\"] <= u_limit)]\n",
    "\n",
    "\n",
    "#df1.drop(index=u_array, inplace=True)\n",
    "#df1.drop(index=l_array, inplace=True)\n",
    "\n",
    "# now new shape:\n",
    "print(df1.shape)\n",
    "\n",
    "\n",
    "#and the new box plot\n",
    "sns.boxplot(df1[\"price\"])"
   ]
  },
  {
   "cell_type": "code",
   "execution_count": null,
   "id": "3f45668c-0c62-48ef-9645-5d90b61c1495",
   "metadata": {},
   "outputs": [],
   "source": []
  }
 ],
 "metadata": {
  "kernelspec": {
   "display_name": "Python 3 (ipykernel)",
   "language": "python",
   "name": "python3"
  },
  "language_info": {
   "codemirror_mode": {
    "name": "ipython",
    "version": 3
   },
   "file_extension": ".py",
   "mimetype": "text/x-python",
   "name": "python",
   "nbconvert_exporter": "python",
   "pygments_lexer": "ipython3",
   "version": "3.10.14"
  }
 },
 "nbformat": 4,
 "nbformat_minor": 5
}
